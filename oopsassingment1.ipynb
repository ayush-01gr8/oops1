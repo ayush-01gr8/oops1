{
 "cells": [
  {
   "cell_type": "code",
   "execution_count": null,
   "id": "409da69e-b947-4a3b-8bc8-e0ac5e6ae19e",
   "metadata": {},
   "outputs": [],
   "source": [
    "Q1, Create a vehicle class with an init method having instance variables as name_of_vehicle, max_speed\n",
    "and average_of_vehicle."
   ]
  },
  {
   "cell_type": "code",
   "execution_count": 1,
   "id": "f7b71865-4729-44bd-8a1a-32f587699396",
   "metadata": {},
   "outputs": [],
   "source": [
    "class Vehicle:\n",
    "    def __init__(self, name_of_vehicle, max_speed, average_speed):\n",
    "        self.name_of_vehicle = name_of_vehicle\n",
    "        self.max_speed = max_speed\n",
    "        self.average_speed = average_speed\n"
   ]
  },
  {
   "cell_type": "code",
   "execution_count": 8,
   "id": "f7ae4346-a882-4308-b77f-cbf378ea9ff2",
   "metadata": {},
   "outputs": [
    {
     "name": "stdout",
     "output_type": "stream",
     "text": [
      "supra\n",
      "280\n",
      "180\n"
     ]
    }
   ],
   "source": [
    "car = Vehicle(\"supra\",280,180)\n",
    "print(car.name_of_vehicle)      \n",
    "print(car.max_speed)            \n",
    "print(car.average_speed)         \n"
   ]
  },
  {
   "cell_type": "code",
   "execution_count": null,
   "id": "f5ead5fd-d0dc-49b7-8f57-237b9edca977",
   "metadata": {},
   "outputs": [],
   "source": [
    "Q2. Create a child class car from the vehicle class created in Que 1, which will inherit the vehicle class.\n",
    "Create a method named seating_capacity which takes capacity as an argument and returns the name of\n",
    "the vehicle and its seating capacity."
   ]
  },
  {
   "cell_type": "code",
   "execution_count": 9,
   "id": "3b53c1bc-ef97-49f8-8241-6ad9f967770d",
   "metadata": {},
   "outputs": [],
   "source": [
    "class Car(Vehicle):\n",
    "    def seating_capacity(self, capacity):\n",
    "        return f\"{self.name_of_vehicle} has a seating capacity of {capacity} people.\"\n"
   ]
  },
  {
   "cell_type": "code",
   "execution_count": 10,
   "id": "3cdcb5d5-2e3b-4a9b-8fd5-11ee3641ebec",
   "metadata": {},
   "outputs": [
    {
     "name": "stdout",
     "output_type": "stream",
     "text": [
      "Car has a seating capacity of 5 people.\n"
     ]
    }
   ],
   "source": [
    "car = Car(\"Car\", 200, 80)\n",
    "print(car.seating_capacity(5))    # Output: Car has a seating capacity of 5 people.\n"
   ]
  },
  {
   "cell_type": "code",
   "execution_count": null,
   "id": "676bcaaf-b772-4062-a3c3-2fb9ce69c5d2",
   "metadata": {},
   "outputs": [],
   "source": [
    "Q3. What is multiple inheritance? Write a python code to demonstrate multiple inheritance."
   ]
  },
  {
   "cell_type": "code",
   "execution_count": null,
   "id": "906e0ecb-ccfe-4e9a-b174-9c929ae561a5",
   "metadata": {},
   "outputs": [],
   "source": [
    "Multiple inheritance is a feature in object-oriented programming where a class can inherit attributes and behaviors from more than one parent class. \n",
    "It allows a subclass to inherit from multiple superclasses, combining their functionalities."
   ]
  },
  {
   "cell_type": "code",
   "execution_count": 20,
   "id": "af75cfc9-edad-4453-9539-f0a4444da341",
   "metadata": {},
   "outputs": [],
   "source": [
    "class vechile :\n",
    "    def __init__(self , name):\n",
    "        self.name = name\n",
    "        \n",
    "        def display_info(self):\n",
    "            print(f\"vechile:{self.name}\")\n",
    "            \n",
    "class engine:\n",
    "    def __init__(self,engine_type):\n",
    "        self.engine_type = eng_type\n",
    "        \n",
    "        def display_info(self):\n",
    "            print(f\"engine: {self.eng_type}\")\n",
    "            \n",
    "class car(vechile , engine):\n",
    "    def __init__(self, name, engine_type, color):\n",
    "        vehicle.__init__(self, name)\n",
    "        engine.__init__(self, eng_type)\n",
    "        self.color = color\n",
    "        \n",
    "  "
   ]
  },
  {
   "cell_type": "code",
   "execution_count": 29,
   "id": "8c5f5b88-1370-4a0b-919a-07b99d347ef7",
   "metadata": {},
   "outputs": [],
   "source": [
    " def display_info(self):\n",
    "        print(f\"Car Name: {self.name}\")\n",
    "        print(f\"Engine Type: {self.eng_type}\")\n",
    "        print(f\"Color: {self.color}\")"
   ]
  },
  {
   "cell_type": "code",
   "execution_count": 32,
   "id": "558063a7-02fd-401c-9320-f0c64df41fe2",
   "metadata": {},
   "outputs": [],
   "source": [
    "car = Car(\"Sedan\", \"Petrol\", \"Red\")\n"
   ]
  },
  {
   "cell_type": "code",
   "execution_count": 33,
   "id": "2fff85c7-d762-4030-9593-2b8a43887327",
   "metadata": {},
   "outputs": [
    {
     "ename": "AttributeError",
     "evalue": "'Car' object has no attribute 'display_info'",
     "output_type": "error",
     "traceback": [
      "\u001b[0;31m---------------------------------------------------------------------------\u001b[0m",
      "\u001b[0;31mAttributeError\u001b[0m                            Traceback (most recent call last)",
      "Cell \u001b[0;32mIn[33], line 1\u001b[0m\n\u001b[0;32m----> 1\u001b[0m \u001b[43mcar\u001b[49m\u001b[38;5;241;43m.\u001b[39;49m\u001b[43mdisplay_info\u001b[49m()\n",
      "\u001b[0;31mAttributeError\u001b[0m: 'Car' object has no attribute 'display_info'"
     ]
    }
   ],
   "source": [
    "car.display_info()"
   ]
  },
  {
   "cell_type": "code",
   "execution_count": null,
   "id": "59f7b267-185a-4ac2-bf30-7d0c869122b2",
   "metadata": {},
   "outputs": [],
   "source": [
    "Q4. What are getter and setter in python? Create a class and create a getter and a setter method in this\n",
    "class."
   ]
  },
  {
   "cell_type": "code",
   "execution_count": 34,
   "id": "6e1c4e43-7771-4e06-ae27-75c539a4b13a",
   "metadata": {},
   "outputs": [],
   "source": [
    "class Person:\n",
    "    def __init__(self, name):\n",
    "        self._name = name\n",
    "\n",
    "    def get_name(self):\n",
    "        return self._name\n",
    "\n",
    "    def set_name(self, new_name):\n",
    "        self._name = new_name\n"
   ]
  },
  {
   "cell_type": "code",
   "execution_count": 35,
   "id": "5af6e52c-3ec2-4268-b0c2-07dbe666ce4d",
   "metadata": {},
   "outputs": [
    {
     "name": "stdout",
     "output_type": "stream",
     "text": [
      "John\n",
      "Jane\n"
     ]
    }
   ],
   "source": [
    "person = Person(\"John\")\n",
    "print(person.get_name())    # Output: John\n",
    "\n",
    "person.set_name(\"Jane\")\n",
    "print(person.get_name())    # Output: Jane\n"
   ]
  },
  {
   "cell_type": "code",
   "execution_count": null,
   "id": "abcb0338-e53f-4bb9-ba87-be7196a68491",
   "metadata": {},
   "outputs": [],
   "source": [
    "Q5.What is method overriding in python? Write a python code to demonstrate method overriding."
   ]
  },
  {
   "cell_type": "code",
   "execution_count": null,
   "id": "bba0c082-5d23-4d6e-87bc-bb75f143fa97",
   "metadata": {},
   "outputs": [],
   "source": [
    "Method overriding is a feature in object-oriented programming that allows a subclass to provide its own implementation of a method that is already defined in its superclass.\n",
    "By overriding a method, the subclass can modify the behavior of the inherited method to suit its specific needs."
   ]
  },
  {
   "cell_type": "code",
   "execution_count": 36,
   "id": "1c9e63b5-57f6-4a4e-89be-1dad1d3626a2",
   "metadata": {},
   "outputs": [
    {
     "name": "stdout",
     "output_type": "stream",
     "text": [
      "Animal makes a sound.\n",
      "Dog barks!\n"
     ]
    }
   ],
   "source": [
    "class Animal:\n",
    "    def make_sound(self):\n",
    "        print(\"Animal makes a sound.\")\n",
    "\n",
    "\n",
    "class Dog(Animal):\n",
    "    def make_sound(self):\n",
    "        print(\"Dog barks!\")\n",
    "\n",
    "\n",
    "animal = Animal()\n",
    "animal.make_sound()   # Output: Animal makes a sound.\n",
    "\n",
    "dog = Dog()\n",
    "dog.make_sound()      # Output: Dog barks!\n"
   ]
  }
 ],
 "metadata": {
  "kernelspec": {
   "display_name": "Python 3 (ipykernel)",
   "language": "python",
   "name": "python3"
  },
  "language_info": {
   "codemirror_mode": {
    "name": "ipython",
    "version": 3
   },
   "file_extension": ".py",
   "mimetype": "text/x-python",
   "name": "python",
   "nbconvert_exporter": "python",
   "pygments_lexer": "ipython3",
   "version": "3.10.8"
  }
 },
 "nbformat": 4,
 "nbformat_minor": 5
}
